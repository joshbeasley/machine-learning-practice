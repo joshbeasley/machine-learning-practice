{
 "cells": [
  {
   "cell_type": "code",
   "execution_count": 1,
   "metadata": {},
   "outputs": [
    {
     "name": "stdout",
     "output_type": "stream",
     "text": [
      "Downloading data from https://storage.googleapis.com/tensorflow/tf-keras-datasets/mnist.npz\n",
      "11493376/11490434 [==============================] - 2s 0us/step\n"
     ]
    }
   ],
   "source": [
    "from tensorflow.keras.datasets import mnist\n",
    "\n",
    "(X_train_full, y_train_full), (X_test, y_test) = mnist.load_data()"
   ]
  },
  {
   "cell_type": "code",
   "execution_count": 56,
   "metadata": {},
   "outputs": [],
   "source": [
    "X_valid, X_train = X_train_full[:5000] / 255.0, X_train_full[5000:] /255.0\n",
    "y_valid, y_train = y_train_full[:5000], y_train_full[5000:]"
   ]
  },
  {
   "cell_type": "code",
   "execution_count": 70,
   "metadata": {},
   "outputs": [],
   "source": [
    "from tensorflow.keras.models import Sequential\n",
    "from tensorflow.keras.layers import Dense, Flatten, Dropout\n",
    "from tensorflow.keras.optimizers import SGD\n",
    "from tensorflow.keras.callbacks import EarlyStopping, ModelCheckpoint\n",
    "\n",
    "model = Sequential([\n",
    "    Flatten(input_shape=[28,28]),\n",
    "    Dropout(rate=0.2),\n",
    "    Dense(100, activation=\"relu\"),\n",
    "    Dropout(rate=0.2),\n",
    "    Dense(100, activation=\"relu\"),\n",
    "    Dropout(rate=0.2),\n",
    "    Dense(100, activation=\"relu\"),\n",
    "    Dropout(rate=0.2),\n",
    "    Dense(10, activation=\"softmax\")\n",
    "])"
   ]
  },
  {
   "cell_type": "code",
   "execution_count": 71,
   "metadata": {},
   "outputs": [],
   "source": [
    "model.compile(loss=\"sparse_categorical_crossentropy\",\n",
    "              optimizer=SGD(lr=2e-1),\n",
    "              metrics=[\"accuracy\"])"
   ]
  },
  {
   "cell_type": "code",
   "execution_count": 72,
   "metadata": {},
   "outputs": [
    {
     "name": "stdout",
     "output_type": "stream",
     "text": [
      "Epoch 1/100\n",
      "1719/1719 [==============================] - 4s 2ms/step - loss: 0.7080 - accuracy: 0.7689 - val_loss: 0.1715 - val_accuracy: 0.9490\n",
      "Epoch 2/100\n",
      "1719/1719 [==============================] - 3s 2ms/step - loss: 0.2676 - accuracy: 0.9218 - val_loss: 0.1233 - val_accuracy: 0.9636\n",
      "Epoch 3/100\n",
      "1719/1719 [==============================] - 3s 2ms/step - loss: 0.2182 - accuracy: 0.9375 - val_loss: 0.1193 - val_accuracy: 0.9668\n",
      "Epoch 4/100\n",
      "1719/1719 [==============================] - 3s 2ms/step - loss: 0.2004 - accuracy: 0.9402 - val_loss: 0.1014 - val_accuracy: 0.9706\n",
      "Epoch 5/100\n",
      "1719/1719 [==============================] - 3s 2ms/step - loss: 0.1827 - accuracy: 0.9450 - val_loss: 0.1042 - val_accuracy: 0.9694\n",
      "Epoch 6/100\n",
      "1719/1719 [==============================] - 3s 2ms/step - loss: 0.1686 - accuracy: 0.9486 - val_loss: 0.1057 - val_accuracy: 0.9708\n",
      "Epoch 7/100\n",
      "1719/1719 [==============================] - 3s 2ms/step - loss: 0.1517 - accuracy: 0.9558 - val_loss: 0.0962 - val_accuracy: 0.9728\n",
      "Epoch 8/100\n",
      "1719/1719 [==============================] - 3s 2ms/step - loss: 0.1551 - accuracy: 0.9545 - val_loss: 0.0925 - val_accuracy: 0.9726\n",
      "Epoch 9/100\n",
      "1719/1719 [==============================] - 3s 2ms/step - loss: 0.1504 - accuracy: 0.9554 - val_loss: 0.0859 - val_accuracy: 0.9766\n",
      "Epoch 10/100\n",
      "1719/1719 [==============================] - 3s 2ms/step - loss: 0.1459 - accuracy: 0.9576 - val_loss: 0.0909 - val_accuracy: 0.9762\n",
      "Epoch 11/100\n",
      "1719/1719 [==============================] - 3s 2ms/step - loss: 0.1375 - accuracy: 0.9581 - val_loss: 0.0873 - val_accuracy: 0.9738\n",
      "Epoch 12/100\n",
      "1719/1719 [==============================] - 3s 2ms/step - loss: 0.1341 - accuracy: 0.9591 - val_loss: 0.0821 - val_accuracy: 0.9758\n",
      "Epoch 13/100\n",
      "1719/1719 [==============================] - 3s 2ms/step - loss: 0.1296 - accuracy: 0.9603 - val_loss: 0.0834 - val_accuracy: 0.9756\n",
      "Epoch 14/100\n",
      "1719/1719 [==============================] - 3s 2ms/step - loss: 0.1294 - accuracy: 0.9611 - val_loss: 0.0879 - val_accuracy: 0.9756\n",
      "Epoch 15/100\n",
      "1719/1719 [==============================] - 3s 2ms/step - loss: 0.1295 - accuracy: 0.9612 - val_loss: 0.0770 - val_accuracy: 0.9792\n",
      "Epoch 16/100\n",
      "1719/1719 [==============================] - 3s 2ms/step - loss: 0.1239 - accuracy: 0.9613 - val_loss: 0.0856 - val_accuracy: 0.9742\n",
      "Epoch 17/100\n",
      "1719/1719 [==============================] - 3s 2ms/step - loss: 0.1203 - accuracy: 0.9638 - val_loss: 0.0806 - val_accuracy: 0.9776\n",
      "Epoch 18/100\n",
      "1719/1719 [==============================] - 3s 2ms/step - loss: 0.1139 - accuracy: 0.9655 - val_loss: 0.0811 - val_accuracy: 0.9796\n",
      "Epoch 19/100\n",
      "1719/1719 [==============================] - 3s 2ms/step - loss: 0.1125 - accuracy: 0.9660 - val_loss: 0.1815 - val_accuracy: 0.9414\n",
      "Epoch 20/100\n",
      "1719/1719 [==============================] - 3s 2ms/step - loss: 0.1184 - accuracy: 0.9641 - val_loss: 0.0734 - val_accuracy: 0.9784\n",
      "Epoch 21/100\n",
      "1719/1719 [==============================] - 3s 2ms/step - loss: 0.1157 - accuracy: 0.9647 - val_loss: 0.0765 - val_accuracy: 0.9790\n",
      "Epoch 22/100\n",
      "1719/1719 [==============================] - 3s 2ms/step - loss: 0.1125 - accuracy: 0.9663 - val_loss: 0.0716 - val_accuracy: 0.9800\n",
      "Epoch 23/100\n",
      "1719/1719 [==============================] - 3s 2ms/step - loss: 0.1072 - accuracy: 0.9670 - val_loss: 0.0804 - val_accuracy: 0.9768\n",
      "Epoch 24/100\n",
      "1719/1719 [==============================] - 3s 2ms/step - loss: 0.1061 - accuracy: 0.9678 - val_loss: 0.0753 - val_accuracy: 0.9784\n",
      "Epoch 25/100\n",
      "1719/1719 [==============================] - 3s 2ms/step - loss: 0.1013 - accuracy: 0.9706 - val_loss: 0.0768 - val_accuracy: 0.9790\n",
      "Epoch 26/100\n",
      "1719/1719 [==============================] - 3s 2ms/step - loss: 0.1012 - accuracy: 0.9680 - val_loss: 0.0753 - val_accuracy: 0.9784\n",
      "Epoch 27/100\n",
      "1719/1719 [==============================] - 3s 2ms/step - loss: 0.1082 - accuracy: 0.9673 - val_loss: 0.0787 - val_accuracy: 0.9776\n",
      "Epoch 28/100\n",
      "1719/1719 [==============================] - 3s 2ms/step - loss: 0.1080 - accuracy: 0.9685 - val_loss: 0.0726 - val_accuracy: 0.9802\n",
      "Epoch 29/100\n",
      "1719/1719 [==============================] - 3s 2ms/step - loss: 0.1035 - accuracy: 0.9683 - val_loss: 0.0769 - val_accuracy: 0.9802\n",
      "Epoch 30/100\n",
      "1719/1719 [==============================] - 3s 2ms/step - loss: 0.1033 - accuracy: 0.9682 - val_loss: 0.0744 - val_accuracy: 0.9794\n",
      "Epoch 31/100\n",
      "1719/1719 [==============================] - 3s 2ms/step - loss: 0.1013 - accuracy: 0.9694 - val_loss: 0.0677 - val_accuracy: 0.9796\n",
      "Epoch 32/100\n",
      "1719/1719 [==============================] - 3s 2ms/step - loss: 0.1007 - accuracy: 0.9700 - val_loss: 0.0656 - val_accuracy: 0.9812\n",
      "Epoch 33/100\n",
      "1719/1719 [==============================] - 3s 2ms/step - loss: 0.0941 - accuracy: 0.9724 - val_loss: 0.0733 - val_accuracy: 0.9806\n",
      "Epoch 34/100\n",
      "1719/1719 [==============================] - 3s 2ms/step - loss: 0.0980 - accuracy: 0.9706 - val_loss: 0.0691 - val_accuracy: 0.9804\n",
      "Epoch 35/100\n",
      "1719/1719 [==============================] - 3s 2ms/step - loss: 0.0995 - accuracy: 0.9690 - val_loss: 0.0749 - val_accuracy: 0.9800\n",
      "Epoch 36/100\n",
      "1719/1719 [==============================] - 3s 2ms/step - loss: 0.0953 - accuracy: 0.9711 - val_loss: 0.0710 - val_accuracy: 0.9816\n",
      "Epoch 37/100\n",
      "1719/1719 [==============================] - 3s 2ms/step - loss: 0.0927 - accuracy: 0.9714 - val_loss: 0.0753 - val_accuracy: 0.9810\n",
      "Epoch 38/100\n",
      "1719/1719 [==============================] - 3s 2ms/step - loss: 0.0955 - accuracy: 0.9699 - val_loss: 0.0683 - val_accuracy: 0.9808\n",
      "Epoch 39/100\n",
      "1719/1719 [==============================] - 3s 2ms/step - loss: 0.0995 - accuracy: 0.9708 - val_loss: 0.0699 - val_accuracy: 0.9800\n",
      "Epoch 40/100\n",
      "1719/1719 [==============================] - 3s 2ms/step - loss: 0.1001 - accuracy: 0.9708 - val_loss: 0.0738 - val_accuracy: 0.9808\n",
      "Epoch 41/100\n",
      "1719/1719 [==============================] - 3s 2ms/step - loss: 0.0961 - accuracy: 0.9707 - val_loss: 0.0746 - val_accuracy: 0.9806\n",
      "Epoch 42/100\n",
      "1719/1719 [==============================] - 3s 2ms/step - loss: 0.0925 - accuracy: 0.9715 - val_loss: 0.0660 - val_accuracy: 0.9826\n",
      "Epoch 43/100\n",
      "1719/1719 [==============================] - 3s 2ms/step - loss: 0.0954 - accuracy: 0.9721 - val_loss: 0.0697 - val_accuracy: 0.9804\n",
      "Epoch 44/100\n",
      "1719/1719 [==============================] - 3s 2ms/step - loss: 0.0910 - accuracy: 0.9740 - val_loss: 0.0680 - val_accuracy: 0.9802\n",
      "Epoch 45/100\n",
      "1719/1719 [==============================] - 3s 2ms/step - loss: 0.0913 - accuracy: 0.9731 - val_loss: 0.0702 - val_accuracy: 0.9814\n",
      "Epoch 46/100\n",
      "1719/1719 [==============================] - 3s 2ms/step - loss: 0.0924 - accuracy: 0.9726 - val_loss: 0.0707 - val_accuracy: 0.9800\n",
      "Epoch 47/100\n",
      "1719/1719 [==============================] - 3s 2ms/step - loss: 0.0906 - accuracy: 0.9722 - val_loss: 0.0653 - val_accuracy: 0.9814\n",
      "Epoch 48/100\n",
      "1719/1719 [==============================] - 3s 2ms/step - loss: 0.0920 - accuracy: 0.9717 - val_loss: 0.0652 - val_accuracy: 0.9822\n",
      "Epoch 49/100\n",
      "1719/1719 [==============================] - 3s 2ms/step - loss: 0.0893 - accuracy: 0.9728 - val_loss: 0.0675 - val_accuracy: 0.9818\n",
      "Epoch 50/100\n",
      "1719/1719 [==============================] - 3s 2ms/step - loss: 0.0864 - accuracy: 0.9745 - val_loss: 0.0654 - val_accuracy: 0.9796\n",
      "Epoch 51/100\n",
      "1719/1719 [==============================] - 3s 2ms/step - loss: 0.0919 - accuracy: 0.9718 - val_loss: 0.0657 - val_accuracy: 0.9808\n",
      "Epoch 52/100\n",
      "1719/1719 [==============================] - 3s 2ms/step - loss: 0.0884 - accuracy: 0.9729 - val_loss: 0.0709 - val_accuracy: 0.9804\n",
      "Epoch 53/100\n",
      "1719/1719 [==============================] - 4s 2ms/step - loss: 0.0905 - accuracy: 0.9737 - val_loss: 0.0742 - val_accuracy: 0.9796\n",
      "Epoch 54/100\n",
      "1719/1719 [==============================] - 4s 2ms/step - loss: 0.0829 - accuracy: 0.9750 - val_loss: 0.0742 - val_accuracy: 0.9794\n",
      "Epoch 55/100\n",
      "1719/1719 [==============================] - 3s 2ms/step - loss: 0.0891 - accuracy: 0.9721 - val_loss: 0.0744 - val_accuracy: 0.9804\n",
      "Epoch 56/100\n",
      "1719/1719 [==============================] - 3s 2ms/step - loss: 0.0903 - accuracy: 0.9726 - val_loss: 0.0698 - val_accuracy: 0.9808\n",
      "Epoch 57/100\n"
     ]
    },
    {
     "name": "stdout",
     "output_type": "stream",
     "text": [
      "1719/1719 [==============================] - 3s 2ms/step - loss: 0.0861 - accuracy: 0.9736 - val_loss: 0.0697 - val_accuracy: 0.9818\n",
      "Epoch 58/100\n",
      "1719/1719 [==============================] - 3s 2ms/step - loss: 0.0853 - accuracy: 0.9739 - val_loss: 0.0733 - val_accuracy: 0.9796\n",
      "Epoch 59/100\n",
      "1719/1719 [==============================] - 3s 2ms/step - loss: 0.0888 - accuracy: 0.9725 - val_loss: 0.0724 - val_accuracy: 0.9794\n",
      "Epoch 60/100\n",
      "1719/1719 [==============================] - 3s 2ms/step - loss: 0.0792 - accuracy: 0.9761 - val_loss: 0.0747 - val_accuracy: 0.9798\n",
      "Epoch 61/100\n",
      "1719/1719 [==============================] - 3s 2ms/step - loss: 0.0880 - accuracy: 0.9734 - val_loss: 0.0711 - val_accuracy: 0.9802\n",
      "Epoch 62/100\n",
      "1719/1719 [==============================] - 3s 2ms/step - loss: 0.0877 - accuracy: 0.9736 - val_loss: 0.0731 - val_accuracy: 0.9806\n",
      "Epoch 63/100\n",
      "1719/1719 [==============================] - 3s 2ms/step - loss: 0.0843 - accuracy: 0.9744 - val_loss: 0.0722 - val_accuracy: 0.9800\n",
      "Epoch 64/100\n",
      "1719/1719 [==============================] - 3s 2ms/step - loss: 0.0880 - accuracy: 0.9722 - val_loss: 0.0672 - val_accuracy: 0.9800\n",
      "Epoch 65/100\n",
      "1719/1719 [==============================] - 3s 2ms/step - loss: 0.0852 - accuracy: 0.9741 - val_loss: 0.0727 - val_accuracy: 0.9802\n",
      "Epoch 66/100\n",
      "1719/1719 [==============================] - 3s 2ms/step - loss: 0.0869 - accuracy: 0.9726 - val_loss: 0.0744 - val_accuracy: 0.9810\n",
      "Epoch 67/100\n",
      "1719/1719 [==============================] - 3s 2ms/step - loss: 0.0850 - accuracy: 0.9743 - val_loss: 0.0745 - val_accuracy: 0.9788\n",
      "Epoch 68/100\n",
      "1719/1719 [==============================] - 3s 2ms/step - loss: 0.0844 - accuracy: 0.9748 - val_loss: 0.0687 - val_accuracy: 0.9820\n"
     ]
    }
   ],
   "source": [
    "early_stopping_cb = EarlyStopping(patience=20)\n",
    "checkpoint_cb = ModelCheckpoint(\"my_mnist_model.h5\", save_best_only=True)\n",
    "\n",
    "history = model.fit(X_train, y_train, epochs=100,\n",
    "                    validation_data=(X_valid, y_valid),\n",
    "                    callbacks=[early_stopping_cb, checkpoint_cb])"
   ]
  },
  {
   "cell_type": "code",
   "execution_count": 73,
   "metadata": {},
   "outputs": [
    {
     "data": {
      "image/png": "[encoded data removed]",
      "text/plain": [
       "<Figure size 576x360 with 1 Axes>"
      ]
     },
     "metadata": {
      "needs_background": "light"
     },
     "output_type": "display_data"
    }
   ],
   "source": [
    "import pandas as pd\n",
    "%matplotlib inline\n",
    "import matplotlib as mpl\n",
    "import matplotlib.pyplot as plt\n",
    "\n",
    "pd.DataFrame(history.history).plot(figsize=(8,5))\n",
    "plt.grid(True)\n",
    "plt.gca().set_ylim(0,1)\n",
    "plt.show()"
   ]
  },
  {
   "cell_type": "code",
   "execution_count": 75,
   "metadata": {},
   "outputs": [
    {
     "name": "stdout",
     "output_type": "stream",
     "text": [
      "313/313 [==============================] - 0s 938us/step - loss: 11.0737 - accuracy: 0.9717\n"
     ]
    },
    {
     "data": {
      "text/plain": [
       "[11.073723793029785, 0.9717000126838684]"
      ]
     },
     "execution_count": 75,
     "metadata": {},
     "output_type": "execute_result"
    }
   ],
   "source": [
    "from tensorflow import keras\n",
    "model = keras.models.load_model(\"my_mnist_model.h5\") # rollback to best model\n",
    "model.evaluate(X_test, y_test)"
   ]
  },
  {
   "cell_type": "code",
   "execution_count": null,
   "metadata": {},
   "outputs": [],
   "source": []
  }
 ],
 "metadata": {
  "kernelspec": {
   "display_name": "Python 3",
   "language": "python",
   "name": "python3"
  },
  "language_info": {
   "codemirror_mode": {
    "name": "ipython",
    "version": 3
   },
   "file_extension": ".py",
   "mimetype": "text/x-python",
   "name": "python",
   "nbconvert_exporter": "python",
   "pygments_lexer": "ipython3",
   "version": "3.6.9"
  }
 },
 "nbformat": 4,
 "nbformat_minor": 4
}
