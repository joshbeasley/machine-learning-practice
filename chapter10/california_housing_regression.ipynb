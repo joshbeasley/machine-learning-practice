{
 "cells": [
  {
   "cell_type": "code",
   "execution_count": 1,
   "metadata": {},
   "outputs": [],
   "source": [
    "from sklearn.datasets import fetch_california_housing\n",
    "from sklearn.model_selection import train_test_split\n",
    "from sklearn.preprocessing import StandardScaler"
   ]
  },
  {
   "cell_type": "code",
   "execution_count": 2,
   "metadata": {},
   "outputs": [],
   "source": [
    "# fetch data\n",
    "housing = fetch_california_housing()"
   ]
  },
  {
   "cell_type": "code",
   "execution_count": 3,
   "metadata": {},
   "outputs": [],
   "source": [
    "# split into train, validate, and test sets\n",
    "X_train_full, X_test, y_train_full, y_test = train_test_split(housing.data, housing.target)\n",
    "X_train, X_valid, y_train, y_valid = train_test_split(X_train_full, y_train_full)"
   ]
  },
  {
   "cell_type": "code",
   "execution_count": 6,
   "metadata": {},
   "outputs": [],
   "source": [
    "# scale data\n",
    "scaler = StandardScaler()\n",
    "X_train = scaler.fit_transform(X_train)\n",
    "X_valid = scaler.transform(X_valid)\n",
    "X_test = scaler.transform(X_test)"
   ]
  },
  {
   "cell_type": "code",
   "execution_count": 5,
   "metadata": {},
   "outputs": [],
   "source": [
    "from tensorflow.keras.models import Sequential\n",
    "from tensorflow.keras.layers import Dense"
   ]
  },
  {
   "cell_type": "code",
   "execution_count": 11,
   "metadata": {},
   "outputs": [],
   "source": [
    "# create model architecture\n",
    "model = Sequential([\n",
    "    Dense(30, activation=\"relu\", input_shape=X_train.shape[1:]),\n",
    "    Dense(1)\n",
    "])"
   ]
  },
  {
   "cell_type": "code",
   "execution_count": 12,
   "metadata": {},
   "outputs": [
    {
     "name": "stdout",
     "output_type": "stream",
     "text": [
      "Epoch 1/20\n",
      "363/363 [==============================] - 1s 2ms/step - loss: 2.3118 - val_loss: 7.0203\n",
      "Epoch 2/20\n",
      "363/363 [==============================] - 0s 794us/step - loss: 25.2565 - val_loss: 0.4750\n",
      "Epoch 3/20\n",
      "363/363 [==============================] - 0s 790us/step - loss: 0.4262 - val_loss: 0.4178\n",
      "Epoch 4/20\n",
      "363/363 [==============================] - 0s 950us/step - loss: 0.3837 - val_loss: 0.4129\n",
      "Epoch 5/20\n",
      "363/363 [==============================] - 0s 811us/step - loss: 0.3771 - val_loss: 0.4078\n",
      "Epoch 6/20\n",
      "363/363 [==============================] - 0s 813us/step - loss: 0.3812 - val_loss: 0.4027\n",
      "Epoch 7/20\n",
      "363/363 [==============================] - 0s 817us/step - loss: 0.3657 - val_loss: 0.4005\n",
      "Epoch 8/20\n",
      "363/363 [==============================] - 0s 936us/step - loss: 0.3641 - val_loss: 0.3968\n",
      "Epoch 9/20\n",
      "363/363 [==============================] - 0s 794us/step - loss: 0.3700 - val_loss: 0.3926\n",
      "Epoch 10/20\n",
      "363/363 [==============================] - 0s 780us/step - loss: 0.3465 - val_loss: 0.3900\n",
      "Epoch 11/20\n",
      "363/363 [==============================] - 0s 788us/step - loss: 0.3488 - val_loss: 0.3916\n",
      "Epoch 12/20\n",
      "363/363 [==============================] - 0s 936us/step - loss: 0.3550 - val_loss: 0.3903\n",
      "Epoch 13/20\n",
      "363/363 [==============================] - 0s 785us/step - loss: 0.3568 - val_loss: 0.3911\n",
      "Epoch 14/20\n",
      "363/363 [==============================] - 0s 806us/step - loss: 0.3504 - val_loss: 0.4420\n",
      "Epoch 15/20\n",
      "363/363 [==============================] - 0s 787us/step - loss: 0.3668 - val_loss: 0.3952\n",
      "Epoch 16/20\n",
      "363/363 [==============================] - 0s 893us/step - loss: 0.3507 - val_loss: 0.3916\n",
      "Epoch 17/20\n",
      "363/363 [==============================] - 0s 784us/step - loss: 0.3611 - val_loss: 0.3834\n",
      "Epoch 18/20\n",
      "363/363 [==============================] - 0s 948us/step - loss: 0.3521 - val_loss: 0.3818\n",
      "Epoch 19/20\n",
      "363/363 [==============================] - 0s 889us/step - loss: 0.3542 - val_loss: 0.3806\n",
      "Epoch 20/20\n",
      "363/363 [==============================] - 0s 972us/step - loss: 0.3374 - val_loss: 0.3768\n"
     ]
    }
   ],
   "source": [
    "model.compile(loss=\"mean_squared_error\", optimizer=\"sgd\")\n",
    "history = model.fit(X_train, y_train, epochs=20, validation_data=(X_valid, y_valid))"
   ]
  },
  {
   "cell_type": "code",
   "execution_count": 16,
   "metadata": {},
   "outputs": [
    {
     "data": {
      "image/png": "[encoded data removed]",
      "text/plain": [
       "<Figure size 576x360 with 1 Axes>"
      ]
     },
     "metadata": {
      "needs_background": "light"
     },
     "output_type": "display_data"
    }
   ],
   "source": [
    "%matplotlib inline\n",
    "import matplotlib as mpl\n",
    "import matplotlib.pyplot as plt\n",
    "import pandas as pd\n",
    "\n",
    "pd.DataFrame(history.history).plot(figsize=(8,5))\n",
    "plt.grid(True)\n",
    "plt.gca().set_ylim(0,1)\n",
    "plt.show()"
   ]
  },
  {
   "cell_type": "code",
   "execution_count": 17,
   "metadata": {},
   "outputs": [
    {
     "name": "stdout",
     "output_type": "stream",
     "text": [
      "162/162 [==============================] - 0s 716us/step - loss: 0.3639\n"
     ]
    }
   ],
   "source": [
    "mse_test = model.evaluate(X_test, y_test)"
   ]
  },
  {
   "cell_type": "code",
   "execution_count": 19,
   "metadata": {},
   "outputs": [
    {
     "data": {
      "text/plain": [
       "array([[2.537294 ],\n",
       "       [3.2890666],\n",
       "       [2.3513691]], dtype=float32)"
      ]
     },
     "execution_count": 19,
     "metadata": {},
     "output_type": "execute_result"
    }
   ],
   "source": [
    "X_new = X_test[:3]\n",
    "y_pred = model.predict(X_new)\n",
    "y_pred"
   ]
  },
  {
   "cell_type": "code",
   "execution_count": 37,
   "metadata": {},
   "outputs": [],
   "source": [
    "from tensorflow.keras import Model\n",
    "from tensorflow.keras.layers import Input, Concatenate\n",
    "from tensorflow.keras.optimizers import SGD\n",
    "\n",
    "# we can build a more complex model using the keras functional API\n",
    "input_ = Input(shape=X_train.shape[1:])\n",
    "hidden1 = Dense(30, activation=\"relu\")(input_)\n",
    "hidden2 = Dense(30, activation=\"relu\")(hidden1)\n",
    "concat = Concatenate()([input_, hidden2])\n",
    "output = Dense(1)(concat)\n",
    "model = Model(inputs=[input_], outputs=[output])"
   ]
  },
  {
   "cell_type": "code",
   "execution_count": 43,
   "metadata": {},
   "outputs": [
    {
     "name": "stdout",
     "output_type": "stream",
     "text": [
      "Epoch 1/20\n",
      "363/363 [==============================] - 1s 1ms/step - loss: 0.4113 - val_loss: 0.4517\n",
      "Epoch 2/20\n",
      "363/363 [==============================] - 0s 1ms/step - loss: 0.4146 - val_loss: 0.4406\n",
      "Epoch 3/20\n",
      "363/363 [==============================] - 0s 1ms/step - loss: 0.3954 - val_loss: 0.4545\n",
      "Epoch 4/20\n",
      "363/363 [==============================] - 0s 1ms/step - loss: 0.4193 - val_loss: 0.4384\n",
      "Epoch 5/20\n",
      "363/363 [==============================] - 0s 1ms/step - loss: 0.3975 - val_loss: 0.4530\n",
      "Epoch 6/20\n",
      "363/363 [==============================] - 0s 1ms/step - loss: 0.4147 - val_loss: 0.4360\n",
      "Epoch 7/20\n",
      "363/363 [==============================] - 0s 1ms/step - loss: 0.3917 - val_loss: 0.4585\n",
      "Epoch 8/20\n",
      "363/363 [==============================] - 0s 995us/step - loss: 0.4059 - val_loss: 0.4356\n",
      "Epoch 9/20\n",
      "363/363 [==============================] - 0s 1ms/step - loss: 0.3873 - val_loss: 0.4600\n",
      "Epoch 10/20\n",
      "363/363 [==============================] - 0s 1ms/step - loss: 0.3947 - val_loss: 0.4319\n",
      "Epoch 11/20\n",
      "363/363 [==============================] - 0s 1ms/step - loss: 0.4064 - val_loss: 0.4541\n",
      "Epoch 12/20\n",
      "363/363 [==============================] - 0s 1ms/step - loss: 0.3945 - val_loss: 0.4306\n",
      "Epoch 13/20\n",
      "363/363 [==============================] - 0s 1ms/step - loss: 0.4018 - val_loss: 0.4544\n",
      "Epoch 14/20\n",
      "363/363 [==============================] - 0s 988us/step - loss: 0.3867 - val_loss: 0.4345\n",
      "Epoch 15/20\n",
      "363/363 [==============================] - 0s 1ms/step - loss: 0.3875 - val_loss: 0.4620\n",
      "Epoch 16/20\n",
      "363/363 [==============================] - 0s 969us/step - loss: 0.3884 - val_loss: 0.4350\n",
      "Epoch 17/20\n",
      "363/363 [==============================] - 0s 1ms/step - loss: 0.4157 - val_loss: 0.4727\n",
      "Epoch 18/20\n",
      "363/363 [==============================] - 0s 1ms/step - loss: 0.4061 - val_loss: 0.4320\n",
      "Epoch 19/20\n",
      "363/363 [==============================] - 0s 1ms/step - loss: 0.3832 - val_loss: 0.4641\n",
      "Epoch 20/20\n",
      "363/363 [==============================] - 0s 1ms/step - loss: 0.4081 - val_loss: 0.4302\n"
     ]
    }
   ],
   "source": [
    "model.compile(loss=\"mean_squared_error\", optimizer=SGD(lr=1e-3))\n",
    "history = model.fit(X_train, y_train, epochs=20, validation_data=(X_valid, y_valid))"
   ]
  },
  {
   "cell_type": "code",
   "execution_count": 40,
   "metadata": {},
   "outputs": [
    {
     "name": "stdout",
     "output_type": "stream",
     "text": [
      "162/162 [==============================] - 0s 722us/step - loss: 0.4733\n"
     ]
    },
    {
     "data": {
      "text/plain": [
       "0.47326692938804626"
      ]
     },
     "execution_count": 40,
     "metadata": {},
     "output_type": "execute_result"
    }
   ],
   "source": [
    "mse_test = model.evaluate(X_test, y_test)\n",
    "mse_test"
   ]
  },
  {
   "cell_type": "code",
   "execution_count": 44,
   "metadata": {},
   "outputs": [],
   "source": [
    "# now let's try wide and deep with inputs that are split\n",
    "input_A = Input(shape=[5], name=\"wide_input\")\n",
    "input_B = Input(shape=[6], name=\"deep_input\")\n",
    "hidden1 = Dense(30, activation=\"relu\")(input_B)\n",
    "hidden2 = Dense(30, activation=\"relu\")(hidden1)\n",
    "concat = Concatenate()([input_A, hidden2])\n",
    "output = Dense(1, name=\"output\")(concat)\n",
    "model = Model(inputs=[input_A, input_B], outputs=[output])"
   ]
  },
  {
   "cell_type": "code",
   "execution_count": 45,
   "metadata": {},
   "outputs": [],
   "source": [
    "model.compile(loss=\"mse\", optimizer=SGD(lr=1e-3))"
   ]
  },
  {
   "cell_type": "code",
   "execution_count": 46,
   "metadata": {},
   "outputs": [],
   "source": [
    "X_train_A, X_train_B = X_train[:, :5], X_train[:, 2:]\n",
    "X_valid_A, X_valid_B = X_valid[:, :5], X_valid[:, 2:]\n",
    "X_test_A, X_test_B = X_test[:, :5], X_test[:, 2:]"
   ]
  },
  {
   "cell_type": "code",
   "execution_count": 47,
   "metadata": {},
   "outputs": [
    {
     "name": "stdout",
     "output_type": "stream",
     "text": [
      "Epoch 1/20\n",
      "363/363 [==============================] - 1s 1ms/step - loss: 3.3999 - val_loss: 1.0689\n",
      "Epoch 2/20\n",
      "363/363 [==============================] - 0s 1ms/step - loss: 0.9505 - val_loss: 0.7772\n",
      "Epoch 3/20\n",
      "363/363 [==============================] - 0s 1ms/step - loss: 0.7134 - val_loss: 0.7081\n",
      "Epoch 4/20\n",
      "363/363 [==============================] - 0s 1ms/step - loss: 0.6614 - val_loss: 0.6674\n",
      "Epoch 5/20\n",
      "363/363 [==============================] - 0s 1ms/step - loss: 0.6643 - val_loss: 0.6421\n",
      "Epoch 6/20\n",
      "363/363 [==============================] - 0s 1ms/step - loss: 0.6089 - val_loss: 0.6194\n",
      "Epoch 7/20\n",
      "363/363 [==============================] - 0s 1ms/step - loss: 0.5927 - val_loss: 0.6011\n",
      "Epoch 8/20\n",
      "363/363 [==============================] - 0s 1ms/step - loss: 0.5814 - val_loss: 0.5840\n",
      "Epoch 9/20\n",
      "363/363 [==============================] - 0s 1ms/step - loss: 0.5546 - val_loss: 0.5720\n",
      "Epoch 10/20\n",
      "363/363 [==============================] - 0s 1ms/step - loss: 0.5391 - val_loss: 0.5629\n",
      "Epoch 11/20\n",
      "363/363 [==============================] - 0s 1ms/step - loss: 0.5323 - val_loss: 0.5533\n",
      "Epoch 12/20\n",
      "363/363 [==============================] - 0s 1ms/step - loss: 0.5422 - val_loss: 0.5461\n",
      "Epoch 13/20\n",
      "363/363 [==============================] - 0s 1ms/step - loss: 0.5170 - val_loss: 0.5440\n",
      "Epoch 14/20\n",
      "363/363 [==============================] - 0s 1ms/step - loss: 0.5091 - val_loss: 0.5363\n",
      "Epoch 15/20\n",
      "363/363 [==============================] - 0s 1ms/step - loss: 0.4999 - val_loss: 0.5317\n",
      "Epoch 16/20\n",
      "363/363 [==============================] - 0s 1ms/step - loss: 0.5091 - val_loss: 0.5244\n",
      "Epoch 17/20\n",
      "363/363 [==============================] - 0s 1ms/step - loss: 0.4995 - val_loss: 0.5206\n",
      "Epoch 18/20\n",
      "363/363 [==============================] - 0s 1ms/step - loss: 0.4827 - val_loss: 0.5170\n",
      "Epoch 19/20\n",
      "363/363 [==============================] - 0s 1ms/step - loss: 0.4890 - val_loss: 0.5182\n",
      "Epoch 20/20\n",
      "363/363 [==============================] - 0s 1ms/step - loss: 0.4856 - val_loss: 0.5107\n",
      "162/162 [==============================] - 0s 657us/step - loss: 0.5051\n"
     ]
    }
   ],
   "source": [
    "history = model.fit((X_train_A, X_train_B), y_train, epochs=20,\n",
    "                    validation_data=((X_valid_A, X_valid_B), y_valid))\n",
    "mse_test = model.evaluate((X_test_A, X_test_B), y_test)"
   ]
  },
  {
   "cell_type": "code",
   "execution_count": null,
   "metadata": {},
   "outputs": [],
   "source": []
  }
 ],
 "metadata": {
  "kernelspec": {
   "display_name": "Python 3",
   "language": "python",
   "name": "python3"
  },
  "language_info": {
   "codemirror_mode": {
    "name": "ipython",
    "version": 3
   },
   "file_extension": ".py",
   "mimetype": "text/x-python",
   "name": "python",
   "nbconvert_exporter": "python",
   "pygments_lexer": "ipython3",
   "version": "3.6.9"
  }
 },
 "nbformat": 4,
 "nbformat_minor": 4
}
