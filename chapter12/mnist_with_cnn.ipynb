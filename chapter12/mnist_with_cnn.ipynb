{
 "cells": [
  {
   "cell_type": "code",
   "execution_count": 30,
   "metadata": {},
   "outputs": [],
   "source": [
    "from tensorflow.keras.datasets import mnist\n",
    "import tensorflow as tf\n",
    "from tensorflow import keras\n",
    "import numpy as np\n",
    "\n",
    "(X_train_full, y_train_full), (X_test, y_test) = mnist.load_data()\n",
    "\n",
    "X_valid, X_train = X_train_full[:5000] / 255.0, X_train_full[5000:] /255.0\n",
    "y_valid, y_train = y_train_full[:5000], y_train_full[5000:]\n",
    "\n",
    "X_train = X_train[..., np.newaxis]\n",
    "X_valid = X_valid[..., np.newaxis]\n",
    "X_test = X_test[..., np.newaxis]"
   ]
  },
  {
   "cell_type": "code",
   "execution_count": 31,
   "metadata": {},
   "outputs": [],
   "source": [
    "keras.backend.clear_session()\n",
    "np.random.seed(42)\n",
    "tf.random.set_seed(42)"
   ]
  },
  {
   "cell_type": "code",
   "execution_count": 32,
   "metadata": {},
   "outputs": [],
   "source": [
    "from tensorflow.keras.models import Sequential\n",
    "from tensorflow.keras.layers import Dense, Flatten, Dropout, Conv2D, MaxPooling2D\n",
    "from tensorflow.keras.optimizers import SGD, Adam\n",
    "from tensorflow.keras.callbacks import EarlyStopping, ModelCheckpoint\n",
    "\n",
    "model = Sequential([\n",
    "    Conv2D(64, 7, activation=\"relu\", padding=\"same\", input_shape=[28, 28, 1]),\n",
    "    MaxPooling2D(2),\n",
    "    Conv2D(128, 3, activation=\"relu\", padding=\"same\"),\n",
    "    Conv2D(128, 3, activation=\"relu\", padding=\"same\"),\n",
    "    MaxPooling2D(2),\n",
    "    Conv2D(256, 3, activation=\"relu\", padding=\"same\"),\n",
    "    Conv2D(256, 3, activation=\"relu\", padding=\"same\"),\n",
    "    MaxPooling2D(2),\n",
    "    Flatten(),\n",
    "    Dense(128, activation=\"relu\"),\n",
    "    Dropout(0.5),\n",
    "    Dense(64, activation=\"relu\"),\n",
    "    Dropout(0.5),\n",
    "    Dense(10, activation=\"softmax\")\n",
    "])"
   ]
  },
  {
   "cell_type": "code",
   "execution_count": 33,
   "metadata": {},
   "outputs": [],
   "source": [
    "early_stopping_cb = EarlyStopping(patience=20)\n",
    "checkpoint_cb = ModelCheckpoint(\"my_mnist_model.h5\", save_best_only=True)"
   ]
  },
  {
   "cell_type": "code",
   "execution_count": 34,
   "metadata": {},
   "outputs": [],
   "source": [
    "model.compile(loss=\"sparse_categorical_crossentropy\",\n",
    "              optimizer=\"adam\",\n",
    "              metrics=[\"accuracy\"])"
   ]
  },
  {
   "cell_type": "code",
   "execution_count": 35,
   "metadata": {},
   "outputs": [
    {
     "name": "stdout",
     "output_type": "stream",
     "text": [
      "Epoch 1/10\n",
      "1719/1719 [==============================] - 127s 73ms/step - loss: 0.8791 - accuracy: 0.6944 - val_loss: 0.0660 - val_accuracy: 0.9834\n",
      "Epoch 2/10\n",
      "1719/1719 [==============================] - 128s 74ms/step - loss: 0.1384 - accuracy: 0.9660 - val_loss: 0.0538 - val_accuracy: 0.9886\n",
      "Epoch 3/10\n",
      "1719/1719 [==============================] - 127s 74ms/step - loss: 0.0958 - accuracy: 0.9778 - val_loss: 0.0588 - val_accuracy: 0.9828\n",
      "Epoch 4/10\n",
      "1719/1719 [==============================] - 128s 74ms/step - loss: 0.0772 - accuracy: 0.9821 - val_loss: 0.0520 - val_accuracy: 0.9890\n",
      "Epoch 5/10\n",
      "1719/1719 [==============================] - 131s 76ms/step - loss: 0.0656 - accuracy: 0.9851 - val_loss: 0.0505 - val_accuracy: 0.9872\n",
      "Epoch 6/10\n",
      "1719/1719 [==============================] - 131s 76ms/step - loss: 0.0577 - accuracy: 0.9870 - val_loss: 0.0366 - val_accuracy: 0.9930\n",
      "Epoch 7/10\n",
      "1719/1719 [==============================] - 129s 75ms/step - loss: 0.0498 - accuracy: 0.9875 - val_loss: 0.0477 - val_accuracy: 0.9922\n",
      "Epoch 8/10\n",
      "1719/1719 [==============================] - 126s 73ms/step - loss: 0.0514 - accuracy: 0.9883 - val_loss: 0.0524 - val_accuracy: 0.9872\n",
      "Epoch 9/10\n",
      "1719/1719 [==============================] - 126s 74ms/step - loss: 0.0476 - accuracy: 0.9889 - val_loss: 0.0399 - val_accuracy: 0.9908\n",
      "Epoch 10/10\n",
      "1719/1719 [==============================] - 131s 76ms/step - loss: 0.0436 - accuracy: 0.9892 - val_loss: 0.0375 - val_accuracy: 0.9926\n"
     ]
    }
   ],
   "source": [
    "history = model.fit(X_train, y_train, epochs=10,\n",
    "                    validation_data=(X_valid, y_valid),\n",
    "                    callbacks=[early_stopping_cb, checkpoint_cb])"
   ]
  },
  {
   "cell_type": "code",
   "execution_count": 36,
   "metadata": {},
   "outputs": [
    {
     "name": "stdout",
     "output_type": "stream",
     "text": [
      "313/313 [==============================] - 5s 16ms/step - loss: 14.8502 - accuracy: 0.9838\n"
     ]
    },
    {
     "data": {
      "text/plain": [
       "[14.8501558303833, 0.9837999939918518]"
      ]
     },
     "execution_count": 36,
     "metadata": {},
     "output_type": "execute_result"
    }
   ],
   "source": [
    "model.evaluate(X_test, y_test)"
   ]
  },
  {
   "cell_type": "code",
   "execution_count": null,
   "metadata": {},
   "outputs": [],
   "source": [
    "p"
   ]
  }
 ],
 "metadata": {
  "kernelspec": {
   "display_name": "Python 3",
   "language": "python",
   "name": "python3"
  },
  "language_info": {
   "codemirror_mode": {
    "name": "ipython",
    "version": 3
   },
   "file_extension": ".py",
   "mimetype": "text/x-python",
   "name": "python",
   "nbconvert_exporter": "python",
   "pygments_lexer": "ipython3",
   "version": "3.6.9"
  }
 },
 "nbformat": 4,
 "nbformat_minor": 4
}
